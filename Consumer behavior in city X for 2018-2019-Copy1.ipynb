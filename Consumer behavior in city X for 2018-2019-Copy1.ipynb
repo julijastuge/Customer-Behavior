{
 "cells": [
  {
   "cell_type": "code",
   "execution_count": 2,
   "metadata": {},
   "outputs": [],
   "source": [
    "import sys\n",
    "sys.path.insert(1, './lib/python3.7/site-packages')\n",
    "import pandas as pd\n",
    "import matplotlib.pyplot as plt; plt.rcdefaults() \n",
    "import numpy as np\n",
    "import pandas as pd\n",
    "import matplotlib.pyplot as plt\n",
    "import seaborn as sb\n",
    "from IPython.display import Markdown as md\n",
    "from bs4 import BeautifulSoup\n",
    "import unicodedata\n",
    "import json\n",
    "%matplotlib inline"
   ]
  },
  {
   "cell_type": "code",
   "execution_count": 3,
   "metadata": {},
   "outputs": [
    {
     "data": {
      "text/html": [
       "<div>\n",
       "<style scoped>\n",
       "    .dataframe tbody tr th:only-of-type {\n",
       "        vertical-align: middle;\n",
       "    }\n",
       "\n",
       "    .dataframe tbody tr th {\n",
       "        vertical-align: top;\n",
       "    }\n",
       "\n",
       "    .dataframe thead th {\n",
       "        text-align: right;\n",
       "    }\n",
       "</style>\n",
       "<table border=\"1\" class=\"dataframe\">\n",
       "  <thead>\n",
       "    <tr style=\"text-align: right;\">\n",
       "      <th></th>\n",
       "      <th>Date</th>\n",
       "      <th>Accommodation Type</th>\n",
       "      <th>StayedLengthofStay</th>\n",
       "      <th>StayedAverageDailyRate</th>\n",
       "      <th>BookingWindowCheckindate</th>\n",
       "    </tr>\n",
       "  </thead>\n",
       "  <tbody>\n",
       "    <tr>\n",
       "      <th>0</th>\n",
       "      <td>2019-12</td>\n",
       "      <td>Apartment</td>\n",
       "      <td>2.37</td>\n",
       "      <td>79.33</td>\n",
       "      <td>64.09</td>\n",
       "    </tr>\n",
       "    <tr>\n",
       "      <th>1</th>\n",
       "      <td>2019-12</td>\n",
       "      <td>Holiday home</td>\n",
       "      <td>2.68</td>\n",
       "      <td>135.66</td>\n",
       "      <td>99.95</td>\n",
       "    </tr>\n",
       "    <tr>\n",
       "      <th>2</th>\n",
       "      <td>2019-12</td>\n",
       "      <td>Hostel</td>\n",
       "      <td>1.88</td>\n",
       "      <td>25.98</td>\n",
       "      <td>30.22</td>\n",
       "    </tr>\n",
       "    <tr>\n",
       "      <th>3</th>\n",
       "      <td>2019-12</td>\n",
       "      <td>Hotel</td>\n",
       "      <td>1.92</td>\n",
       "      <td>106.24</td>\n",
       "      <td>42.54</td>\n",
       "    </tr>\n",
       "    <tr>\n",
       "      <th>4</th>\n",
       "      <td>2019-11</td>\n",
       "      <td>Apartment</td>\n",
       "      <td>2.30</td>\n",
       "      <td>55.89</td>\n",
       "      <td>65.30</td>\n",
       "    </tr>\n",
       "    <tr>\n",
       "      <th>...</th>\n",
       "      <td>...</td>\n",
       "      <td>...</td>\n",
       "      <td>...</td>\n",
       "      <td>...</td>\n",
       "      <td>...</td>\n",
       "    </tr>\n",
       "    <tr>\n",
       "      <th>95</th>\n",
       "      <td>2018-01</td>\n",
       "      <td>Hotel</td>\n",
       "      <td>2.13</td>\n",
       "      <td>111.23</td>\n",
       "      <td>59.49</td>\n",
       "    </tr>\n",
       "    <tr>\n",
       "      <th>96</th>\n",
       "      <td>2017-12</td>\n",
       "      <td>Apartment</td>\n",
       "      <td>2.44</td>\n",
       "      <td>80.50</td>\n",
       "      <td>67.81</td>\n",
       "    </tr>\n",
       "    <tr>\n",
       "      <th>97</th>\n",
       "      <td>2017-12</td>\n",
       "      <td>Holiday home</td>\n",
       "      <td>2.82</td>\n",
       "      <td>135.18</td>\n",
       "      <td>98.98</td>\n",
       "    </tr>\n",
       "    <tr>\n",
       "      <th>98</th>\n",
       "      <td>2017-12</td>\n",
       "      <td>Hostel</td>\n",
       "      <td>1.90</td>\n",
       "      <td>24.44</td>\n",
       "      <td>30.59</td>\n",
       "    </tr>\n",
       "    <tr>\n",
       "      <th>99</th>\n",
       "      <td>2017-12</td>\n",
       "      <td>Hotel</td>\n",
       "      <td>1.91</td>\n",
       "      <td>104.16</td>\n",
       "      <td>42.26</td>\n",
       "    </tr>\n",
       "  </tbody>\n",
       "</table>\n",
       "<p>100 rows × 5 columns</p>\n",
       "</div>"
      ],
      "text/plain": [
       "       Date Accommodation Type  StayedLengthofStay  StayedAverageDailyRate  \\\n",
       "0   2019-12          Apartment                2.37                   79.33   \n",
       "1   2019-12       Holiday home                2.68                  135.66   \n",
       "2   2019-12             Hostel                1.88                   25.98   \n",
       "3   2019-12              Hotel                1.92                  106.24   \n",
       "4   2019-11          Apartment                2.30                   55.89   \n",
       "..      ...                ...                 ...                     ...   \n",
       "95  2018-01              Hotel                2.13                  111.23   \n",
       "96  2017-12          Apartment                2.44                   80.50   \n",
       "97  2017-12       Holiday home                2.82                  135.18   \n",
       "98  2017-12             Hostel                1.90                   24.44   \n",
       "99  2017-12              Hotel                1.91                  104.16   \n",
       "\n",
       "    BookingWindowCheckindate  \n",
       "0                      64.09  \n",
       "1                      99.95  \n",
       "2                      30.22  \n",
       "3                      42.54  \n",
       "4                      65.30  \n",
       "..                       ...  \n",
       "95                     59.49  \n",
       "96                     67.81  \n",
       "97                     98.98  \n",
       "98                     30.59  \n",
       "99                     42.26  \n",
       "\n",
       "[100 rows x 5 columns]"
      ]
     },
     "execution_count": 3,
     "metadata": {},
     "output_type": "execute_result"
    }
   ],
   "source": [
    "data = pd.read_excel ('DEXI1.xlsx')\n",
    "data.head(100)"
   ]
  },
  {
   "cell_type": "code",
   "execution_count": 4,
   "metadata": {},
   "outputs": [
    {
     "data": {
      "text/plain": [
       "(116, 5)"
      ]
     },
     "execution_count": 4,
     "metadata": {},
     "output_type": "execute_result"
    }
   ],
   "source": [
    "data.shape"
   ]
  },
  {
   "cell_type": "code",
   "execution_count": 5,
   "metadata": {},
   "outputs": [
    {
     "name": "stdout",
     "output_type": "stream",
     "text": [
      "<class 'pandas.core.frame.DataFrame'>\n",
      "RangeIndex: 116 entries, 0 to 115\n",
      "Data columns (total 5 columns):\n",
      " #   Column                    Non-Null Count  Dtype  \n",
      "---  ------                    --------------  -----  \n",
      " 0   Date                      116 non-null    object \n",
      " 1   Accommodation Type        116 non-null    object \n",
      " 2   StayedLengthofStay        116 non-null    float64\n",
      " 3   StayedAverageDailyRate    116 non-null    float64\n",
      " 4   BookingWindowCheckindate  116 non-null    float64\n",
      "dtypes: float64(3), object(2)\n",
      "memory usage: 4.7+ KB\n"
     ]
    }
   ],
   "source": [
    "data.info()"
   ]
  },
  {
   "cell_type": "code",
   "execution_count": 6,
   "metadata": {},
   "outputs": [
    {
     "data": {
      "text/html": [
       "<div>\n",
       "<style scoped>\n",
       "    .dataframe tbody tr th:only-of-type {\n",
       "        vertical-align: middle;\n",
       "    }\n",
       "\n",
       "    .dataframe tbody tr th {\n",
       "        vertical-align: top;\n",
       "    }\n",
       "\n",
       "    .dataframe thead th {\n",
       "        text-align: right;\n",
       "    }\n",
       "</style>\n",
       "<table border=\"1\" class=\"dataframe\">\n",
       "  <thead>\n",
       "    <tr style=\"text-align: right;\">\n",
       "      <th></th>\n",
       "      <th>Date</th>\n",
       "      <th>Accommodation Type</th>\n",
       "      <th>StayedLengthofStay</th>\n",
       "      <th>StayedAverageDailyRate</th>\n",
       "      <th>BookingWindowCheckindate</th>\n",
       "    </tr>\n",
       "  </thead>\n",
       "  <tbody>\n",
       "    <tr>\n",
       "      <th>50</th>\n",
       "      <td>2018-12</td>\n",
       "      <td>Hostel</td>\n",
       "      <td>1.90</td>\n",
       "      <td>24.44</td>\n",
       "      <td>30.59</td>\n",
       "    </tr>\n",
       "    <tr>\n",
       "      <th>51</th>\n",
       "      <td>2018-12</td>\n",
       "      <td>Hotel</td>\n",
       "      <td>1.91</td>\n",
       "      <td>104.16</td>\n",
       "      <td>42.26</td>\n",
       "    </tr>\n",
       "    <tr>\n",
       "      <th>52</th>\n",
       "      <td>2018-11</td>\n",
       "      <td>Apartment</td>\n",
       "      <td>2.34</td>\n",
       "      <td>57.49</td>\n",
       "      <td>69.00</td>\n",
       "    </tr>\n",
       "    <tr>\n",
       "      <th>53</th>\n",
       "      <td>2018-11</td>\n",
       "      <td>Holiday home</td>\n",
       "      <td>2.39</td>\n",
       "      <td>94.19</td>\n",
       "      <td>106.20</td>\n",
       "    </tr>\n",
       "    <tr>\n",
       "      <th>54</th>\n",
       "      <td>2018-11</td>\n",
       "      <td>Hostel</td>\n",
       "      <td>1.92</td>\n",
       "      <td>20.40</td>\n",
       "      <td>33.49</td>\n",
       "    </tr>\n",
       "    <tr>\n",
       "      <th>55</th>\n",
       "      <td>2018-11</td>\n",
       "      <td>Hotel</td>\n",
       "      <td>1.84</td>\n",
       "      <td>85.00</td>\n",
       "      <td>43.16</td>\n",
       "    </tr>\n",
       "    <tr>\n",
       "      <th>56</th>\n",
       "      <td>2018-10</td>\n",
       "      <td>Apartment</td>\n",
       "      <td>2.50</td>\n",
       "      <td>63.23</td>\n",
       "      <td>61.51</td>\n",
       "    </tr>\n",
       "    <tr>\n",
       "      <th>57</th>\n",
       "      <td>2018-10</td>\n",
       "      <td>Holiday home</td>\n",
       "      <td>2.80</td>\n",
       "      <td>90.89</td>\n",
       "      <td>91.57</td>\n",
       "    </tr>\n",
       "    <tr>\n",
       "      <th>58</th>\n",
       "      <td>2018-10</td>\n",
       "      <td>Hostel</td>\n",
       "      <td>1.94</td>\n",
       "      <td>22.74</td>\n",
       "      <td>28.08</td>\n",
       "    </tr>\n",
       "    <tr>\n",
       "      <th>59</th>\n",
       "      <td>2018-10</td>\n",
       "      <td>Hotel</td>\n",
       "      <td>1.89</td>\n",
       "      <td>94.14</td>\n",
       "      <td>39.73</td>\n",
       "    </tr>\n",
       "    <tr>\n",
       "      <th>60</th>\n",
       "      <td>2018-09</td>\n",
       "      <td>Apartment</td>\n",
       "      <td>3.08</td>\n",
       "      <td>67.43</td>\n",
       "      <td>50.07</td>\n",
       "    </tr>\n",
       "    <tr>\n",
       "      <th>61</th>\n",
       "      <td>2018-09</td>\n",
       "      <td>Holiday home</td>\n",
       "      <td>3.55</td>\n",
       "      <td>100.32</td>\n",
       "      <td>77.07</td>\n",
       "    </tr>\n",
       "    <tr>\n",
       "      <th>62</th>\n",
       "      <td>2018-09</td>\n",
       "      <td>Hostel</td>\n",
       "      <td>1.89</td>\n",
       "      <td>24.63</td>\n",
       "      <td>22.36</td>\n",
       "    </tr>\n",
       "    <tr>\n",
       "      <th>63</th>\n",
       "      <td>2018-09</td>\n",
       "      <td>Hotel</td>\n",
       "      <td>2.06</td>\n",
       "      <td>97.71</td>\n",
       "      <td>35.77</td>\n",
       "    </tr>\n",
       "    <tr>\n",
       "      <th>64</th>\n",
       "      <td>2018-08</td>\n",
       "      <td>Apartment</td>\n",
       "      <td>3.54</td>\n",
       "      <td>88.40</td>\n",
       "      <td>36.19</td>\n",
       "    </tr>\n",
       "    <tr>\n",
       "      <th>65</th>\n",
       "      <td>2018-08</td>\n",
       "      <td>Holiday home</td>\n",
       "      <td>3.84</td>\n",
       "      <td>122.36</td>\n",
       "      <td>48.95</td>\n",
       "    </tr>\n",
       "    <tr>\n",
       "      <th>66</th>\n",
       "      <td>2018-08</td>\n",
       "      <td>Hostel</td>\n",
       "      <td>1.89</td>\n",
       "      <td>32.22</td>\n",
       "      <td>17.03</td>\n",
       "    </tr>\n",
       "    <tr>\n",
       "      <th>67</th>\n",
       "      <td>2018-08</td>\n",
       "      <td>Hotel</td>\n",
       "      <td>2.23</td>\n",
       "      <td>108.74</td>\n",
       "      <td>26.37</td>\n",
       "    </tr>\n",
       "    <tr>\n",
       "      <th>68</th>\n",
       "      <td>2018-07</td>\n",
       "      <td>Apartment</td>\n",
       "      <td>3.46</td>\n",
       "      <td>85.78</td>\n",
       "      <td>32.44</td>\n",
       "    </tr>\n",
       "    <tr>\n",
       "      <th>69</th>\n",
       "      <td>2018-07</td>\n",
       "      <td>Holiday home</td>\n",
       "      <td>3.74</td>\n",
       "      <td>118.68</td>\n",
       "      <td>37.52</td>\n",
       "    </tr>\n",
       "    <tr>\n",
       "      <th>70</th>\n",
       "      <td>2018-07</td>\n",
       "      <td>Hostel</td>\n",
       "      <td>1.84</td>\n",
       "      <td>30.80</td>\n",
       "      <td>19.88</td>\n",
       "    </tr>\n",
       "    <tr>\n",
       "      <th>71</th>\n",
       "      <td>2018-07</td>\n",
       "      <td>Hotel</td>\n",
       "      <td>2.13</td>\n",
       "      <td>104.46</td>\n",
       "      <td>25.60</td>\n",
       "    </tr>\n",
       "    <tr>\n",
       "      <th>72</th>\n",
       "      <td>2018-06</td>\n",
       "      <td>Apartment</td>\n",
       "      <td>2.89</td>\n",
       "      <td>68.09</td>\n",
       "      <td>38.51</td>\n",
       "    </tr>\n",
       "    <tr>\n",
       "      <th>73</th>\n",
       "      <td>2018-06</td>\n",
       "      <td>Holiday home</td>\n",
       "      <td>3.19</td>\n",
       "      <td>99.74</td>\n",
       "      <td>42.88</td>\n",
       "    </tr>\n",
       "    <tr>\n",
       "      <th>74</th>\n",
       "      <td>2018-06</td>\n",
       "      <td>Hostel</td>\n",
       "      <td>1.83</td>\n",
       "      <td>25.76</td>\n",
       "      <td>27.29</td>\n",
       "    </tr>\n",
       "    <tr>\n",
       "      <th>75</th>\n",
       "      <td>2018-06</td>\n",
       "      <td>Hotel</td>\n",
       "      <td>1.97</td>\n",
       "      <td>95.47</td>\n",
       "      <td>30.85</td>\n",
       "    </tr>\n",
       "    <tr>\n",
       "      <th>76</th>\n",
       "      <td>2018-05</td>\n",
       "      <td>Apartment</td>\n",
       "      <td>2.55</td>\n",
       "      <td>65.57</td>\n",
       "      <td>49.86</td>\n",
       "    </tr>\n",
       "    <tr>\n",
       "      <th>77</th>\n",
       "      <td>2018-05</td>\n",
       "      <td>Holiday home</td>\n",
       "      <td>2.79</td>\n",
       "      <td>91.19</td>\n",
       "      <td>55.49</td>\n",
       "    </tr>\n",
       "    <tr>\n",
       "      <th>78</th>\n",
       "      <td>2018-05</td>\n",
       "      <td>Hostel</td>\n",
       "      <td>1.88</td>\n",
       "      <td>25.91</td>\n",
       "      <td>33.16</td>\n",
       "    </tr>\n",
       "    <tr>\n",
       "      <th>79</th>\n",
       "      <td>2018-05</td>\n",
       "      <td>Hotel</td>\n",
       "      <td>1.94</td>\n",
       "      <td>94.65</td>\n",
       "      <td>36.46</td>\n",
       "    </tr>\n",
       "    <tr>\n",
       "      <th>80</th>\n",
       "      <td>2018-04</td>\n",
       "      <td>Apartment</td>\n",
       "      <td>2.48</td>\n",
       "      <td>68.74</td>\n",
       "      <td>59.62</td>\n",
       "    </tr>\n",
       "    <tr>\n",
       "      <th>81</th>\n",
       "      <td>2018-04</td>\n",
       "      <td>Holiday home</td>\n",
       "      <td>2.53</td>\n",
       "      <td>101.09</td>\n",
       "      <td>70.32</td>\n",
       "    </tr>\n",
       "    <tr>\n",
       "      <th>82</th>\n",
       "      <td>2018-04</td>\n",
       "      <td>Hostel</td>\n",
       "      <td>1.87</td>\n",
       "      <td>24.38</td>\n",
       "      <td>36.27</td>\n",
       "    </tr>\n",
       "    <tr>\n",
       "      <th>83</th>\n",
       "      <td>2018-04</td>\n",
       "      <td>Hotel</td>\n",
       "      <td>1.92</td>\n",
       "      <td>93.52</td>\n",
       "      <td>39.79</td>\n",
       "    </tr>\n",
       "    <tr>\n",
       "      <th>84</th>\n",
       "      <td>2018-03</td>\n",
       "      <td>Apartment</td>\n",
       "      <td>2.95</td>\n",
       "      <td>85.80</td>\n",
       "      <td>75.56</td>\n",
       "    </tr>\n",
       "    <tr>\n",
       "      <th>85</th>\n",
       "      <td>2018-03</td>\n",
       "      <td>Holiday home</td>\n",
       "      <td>3.52</td>\n",
       "      <td>147.43</td>\n",
       "      <td>94.53</td>\n",
       "    </tr>\n",
       "    <tr>\n",
       "      <th>86</th>\n",
       "      <td>2018-03</td>\n",
       "      <td>Hostel</td>\n",
       "      <td>1.89</td>\n",
       "      <td>20.53</td>\n",
       "      <td>43.11</td>\n",
       "    </tr>\n",
       "    <tr>\n",
       "      <th>87</th>\n",
       "      <td>2018-03</td>\n",
       "      <td>Hotel</td>\n",
       "      <td>1.98</td>\n",
       "      <td>100.89</td>\n",
       "      <td>45.64</td>\n",
       "    </tr>\n",
       "    <tr>\n",
       "      <th>88</th>\n",
       "      <td>2018-02</td>\n",
       "      <td>Apartment</td>\n",
       "      <td>3.13</td>\n",
       "      <td>89.81</td>\n",
       "      <td>89.76</td>\n",
       "    </tr>\n",
       "    <tr>\n",
       "      <th>89</th>\n",
       "      <td>2018-02</td>\n",
       "      <td>Holiday home</td>\n",
       "      <td>3.75</td>\n",
       "      <td>146.49</td>\n",
       "      <td>110.45</td>\n",
       "    </tr>\n",
       "    <tr>\n",
       "      <th>90</th>\n",
       "      <td>2018-02</td>\n",
       "      <td>Hostel</td>\n",
       "      <td>1.96</td>\n",
       "      <td>19.92</td>\n",
       "      <td>47.77</td>\n",
       "    </tr>\n",
       "    <tr>\n",
       "      <th>91</th>\n",
       "      <td>2018-02</td>\n",
       "      <td>Hotel</td>\n",
       "      <td>2.04</td>\n",
       "      <td>103.72</td>\n",
       "      <td>51.68</td>\n",
       "    </tr>\n",
       "    <tr>\n",
       "      <th>92</th>\n",
       "      <td>2018-01</td>\n",
       "      <td>Apartment</td>\n",
       "      <td>3.07</td>\n",
       "      <td>92.30</td>\n",
       "      <td>102.57</td>\n",
       "    </tr>\n",
       "    <tr>\n",
       "      <th>93</th>\n",
       "      <td>2018-01</td>\n",
       "      <td>Holiday home</td>\n",
       "      <td>3.46</td>\n",
       "      <td>145.73</td>\n",
       "      <td>124.55</td>\n",
       "    </tr>\n",
       "    <tr>\n",
       "      <th>94</th>\n",
       "      <td>2018-01</td>\n",
       "      <td>Hostel</td>\n",
       "      <td>2.04</td>\n",
       "      <td>26.73</td>\n",
       "      <td>51.33</td>\n",
       "    </tr>\n",
       "  </tbody>\n",
       "</table>\n",
       "</div>"
      ],
      "text/plain": [
       "       Date Accommodation Type  StayedLengthofStay  StayedAverageDailyRate  \\\n",
       "50  2018-12             Hostel                1.90                   24.44   \n",
       "51  2018-12              Hotel                1.91                  104.16   \n",
       "52  2018-11          Apartment                2.34                   57.49   \n",
       "53  2018-11       Holiday home                2.39                   94.19   \n",
       "54  2018-11             Hostel                1.92                   20.40   \n",
       "55  2018-11              Hotel                1.84                   85.00   \n",
       "56  2018-10          Apartment                2.50                   63.23   \n",
       "57  2018-10       Holiday home                2.80                   90.89   \n",
       "58  2018-10             Hostel                1.94                   22.74   \n",
       "59  2018-10              Hotel                1.89                   94.14   \n",
       "60  2018-09          Apartment                3.08                   67.43   \n",
       "61  2018-09       Holiday home                3.55                  100.32   \n",
       "62  2018-09             Hostel                1.89                   24.63   \n",
       "63  2018-09              Hotel                2.06                   97.71   \n",
       "64  2018-08          Apartment                3.54                   88.40   \n",
       "65  2018-08       Holiday home                3.84                  122.36   \n",
       "66  2018-08             Hostel                1.89                   32.22   \n",
       "67  2018-08              Hotel                2.23                  108.74   \n",
       "68  2018-07          Apartment                3.46                   85.78   \n",
       "69  2018-07       Holiday home                3.74                  118.68   \n",
       "70  2018-07             Hostel                1.84                   30.80   \n",
       "71  2018-07              Hotel                2.13                  104.46   \n",
       "72  2018-06          Apartment                2.89                   68.09   \n",
       "73  2018-06       Holiday home                3.19                   99.74   \n",
       "74  2018-06             Hostel                1.83                   25.76   \n",
       "75  2018-06              Hotel                1.97                   95.47   \n",
       "76  2018-05          Apartment                2.55                   65.57   \n",
       "77  2018-05       Holiday home                2.79                   91.19   \n",
       "78  2018-05             Hostel                1.88                   25.91   \n",
       "79  2018-05              Hotel                1.94                   94.65   \n",
       "80  2018-04          Apartment                2.48                   68.74   \n",
       "81  2018-04       Holiday home                2.53                  101.09   \n",
       "82  2018-04             Hostel                1.87                   24.38   \n",
       "83  2018-04              Hotel                1.92                   93.52   \n",
       "84  2018-03          Apartment                2.95                   85.80   \n",
       "85  2018-03       Holiday home                3.52                  147.43   \n",
       "86  2018-03             Hostel                1.89                   20.53   \n",
       "87  2018-03              Hotel                1.98                  100.89   \n",
       "88  2018-02          Apartment                3.13                   89.81   \n",
       "89  2018-02       Holiday home                3.75                  146.49   \n",
       "90  2018-02             Hostel                1.96                   19.92   \n",
       "91  2018-02              Hotel                2.04                  103.72   \n",
       "92  2018-01          Apartment                3.07                   92.30   \n",
       "93  2018-01       Holiday home                3.46                  145.73   \n",
       "94  2018-01             Hostel                2.04                   26.73   \n",
       "\n",
       "    BookingWindowCheckindate  \n",
       "50                     30.59  \n",
       "51                     42.26  \n",
       "52                     69.00  \n",
       "53                    106.20  \n",
       "54                     33.49  \n",
       "55                     43.16  \n",
       "56                     61.51  \n",
       "57                     91.57  \n",
       "58                     28.08  \n",
       "59                     39.73  \n",
       "60                     50.07  \n",
       "61                     77.07  \n",
       "62                     22.36  \n",
       "63                     35.77  \n",
       "64                     36.19  \n",
       "65                     48.95  \n",
       "66                     17.03  \n",
       "67                     26.37  \n",
       "68                     32.44  \n",
       "69                     37.52  \n",
       "70                     19.88  \n",
       "71                     25.60  \n",
       "72                     38.51  \n",
       "73                     42.88  \n",
       "74                     27.29  \n",
       "75                     30.85  \n",
       "76                     49.86  \n",
       "77                     55.49  \n",
       "78                     33.16  \n",
       "79                     36.46  \n",
       "80                     59.62  \n",
       "81                     70.32  \n",
       "82                     36.27  \n",
       "83                     39.79  \n",
       "84                     75.56  \n",
       "85                     94.53  \n",
       "86                     43.11  \n",
       "87                     45.64  \n",
       "88                     89.76  \n",
       "89                    110.45  \n",
       "90                     47.77  \n",
       "91                     51.68  \n",
       "92                    102.57  \n",
       "93                    124.55  \n",
       "94                     51.33  "
      ]
     },
     "execution_count": 6,
     "metadata": {},
     "output_type": "execute_result"
    }
   ],
   "source": [
    "data[50:95]"
   ]
  },
  {
   "cell_type": "code",
   "execution_count": 7,
   "metadata": {},
   "outputs": [
    {
     "data": {
      "text/html": [
       "<div>\n",
       "<style scoped>\n",
       "    .dataframe tbody tr th:only-of-type {\n",
       "        vertical-align: middle;\n",
       "    }\n",
       "\n",
       "    .dataframe tbody tr th {\n",
       "        vertical-align: top;\n",
       "    }\n",
       "\n",
       "    .dataframe thead th {\n",
       "        text-align: right;\n",
       "    }\n",
       "</style>\n",
       "<table border=\"1\" class=\"dataframe\">\n",
       "  <thead>\n",
       "    <tr style=\"text-align: right;\">\n",
       "      <th></th>\n",
       "      <th>Date</th>\n",
       "      <th>Accommodation Type</th>\n",
       "      <th>StayedLengthofStay</th>\n",
       "      <th>StayedAverageDailyRate</th>\n",
       "      <th>BookingWindowCheckindate</th>\n",
       "    </tr>\n",
       "  </thead>\n",
       "  <tbody>\n",
       "    <tr>\n",
       "      <th>count</th>\n",
       "      <td>116</td>\n",
       "      <td>116</td>\n",
       "      <td>116.000000</td>\n",
       "      <td>116.000000</td>\n",
       "      <td>116.000000</td>\n",
       "    </tr>\n",
       "    <tr>\n",
       "      <th>unique</th>\n",
       "      <td>29</td>\n",
       "      <td>4</td>\n",
       "      <td>NaN</td>\n",
       "      <td>NaN</td>\n",
       "      <td>NaN</td>\n",
       "    </tr>\n",
       "    <tr>\n",
       "      <th>top</th>\n",
       "      <td>2019-11</td>\n",
       "      <td>Hotel</td>\n",
       "      <td>NaN</td>\n",
       "      <td>NaN</td>\n",
       "      <td>NaN</td>\n",
       "    </tr>\n",
       "    <tr>\n",
       "      <th>freq</th>\n",
       "      <td>4</td>\n",
       "      <td>29</td>\n",
       "      <td>NaN</td>\n",
       "      <td>NaN</td>\n",
       "      <td>NaN</td>\n",
       "    </tr>\n",
       "    <tr>\n",
       "      <th>mean</th>\n",
       "      <td>NaN</td>\n",
       "      <td>NaN</td>\n",
       "      <td>2.468362</td>\n",
       "      <td>78.971466</td>\n",
       "      <td>52.222845</td>\n",
       "    </tr>\n",
       "    <tr>\n",
       "      <th>std</th>\n",
       "      <td>NaN</td>\n",
       "      <td>NaN</td>\n",
       "      <td>0.626048</td>\n",
       "      <td>36.880396</td>\n",
       "      <td>25.986935</td>\n",
       "    </tr>\n",
       "    <tr>\n",
       "      <th>min</th>\n",
       "      <td>NaN</td>\n",
       "      <td>NaN</td>\n",
       "      <td>1.830000</td>\n",
       "      <td>19.920000</td>\n",
       "      <td>17.030000</td>\n",
       "    </tr>\n",
       "    <tr>\n",
       "      <th>25%</th>\n",
       "      <td>NaN</td>\n",
       "      <td>NaN</td>\n",
       "      <td>1.920000</td>\n",
       "      <td>50.097500</td>\n",
       "      <td>33.407500</td>\n",
       "    </tr>\n",
       "    <tr>\n",
       "      <th>50%</th>\n",
       "      <td>NaN</td>\n",
       "      <td>NaN</td>\n",
       "      <td>2.255000</td>\n",
       "      <td>90.180000</td>\n",
       "      <td>43.160000</td>\n",
       "    </tr>\n",
       "    <tr>\n",
       "      <th>75%</th>\n",
       "      <td>NaN</td>\n",
       "      <td>NaN</td>\n",
       "      <td>2.905000</td>\n",
       "      <td>101.180000</td>\n",
       "      <td>65.927500</td>\n",
       "    </tr>\n",
       "    <tr>\n",
       "      <th>max</th>\n",
       "      <td>NaN</td>\n",
       "      <td>NaN</td>\n",
       "      <td>3.840000</td>\n",
       "      <td>154.440000</td>\n",
       "      <td>124.550000</td>\n",
       "    </tr>\n",
       "  </tbody>\n",
       "</table>\n",
       "</div>"
      ],
      "text/plain": [
       "           Date Accommodation Type  StayedLengthofStay  \\\n",
       "count       116                116          116.000000   \n",
       "unique       29                  4                 NaN   \n",
       "top     2019-11              Hotel                 NaN   \n",
       "freq          4                 29                 NaN   \n",
       "mean        NaN                NaN            2.468362   \n",
       "std         NaN                NaN            0.626048   \n",
       "min         NaN                NaN            1.830000   \n",
       "25%         NaN                NaN            1.920000   \n",
       "50%         NaN                NaN            2.255000   \n",
       "75%         NaN                NaN            2.905000   \n",
       "max         NaN                NaN            3.840000   \n",
       "\n",
       "        StayedAverageDailyRate  BookingWindowCheckindate  \n",
       "count               116.000000                116.000000  \n",
       "unique                     NaN                       NaN  \n",
       "top                        NaN                       NaN  \n",
       "freq                       NaN                       NaN  \n",
       "mean                 78.971466                 52.222845  \n",
       "std                  36.880396                 25.986935  \n",
       "min                  19.920000                 17.030000  \n",
       "25%                  50.097500                 33.407500  \n",
       "50%                  90.180000                 43.160000  \n",
       "75%                 101.180000                 65.927500  \n",
       "max                 154.440000                124.550000  "
      ]
     },
     "execution_count": 7,
     "metadata": {},
     "output_type": "execute_result"
    }
   ],
   "source": [
    "data.describe(include= \"all\")"
   ]
  },
  {
   "cell_type": "code",
   "execution_count": 8,
   "metadata": {},
   "outputs": [],
   "source": [
    "data = pd.read_excel('DEXI1.xlsx', na_values=['NA', 'N/A'])"
   ]
  },
  {
   "cell_type": "code",
   "execution_count": 9,
   "metadata": {},
   "outputs": [
    {
     "data": {
      "text/html": [
       "<div>\n",
       "<style scoped>\n",
       "    .dataframe tbody tr th:only-of-type {\n",
       "        vertical-align: middle;\n",
       "    }\n",
       "\n",
       "    .dataframe tbody tr th {\n",
       "        vertical-align: top;\n",
       "    }\n",
       "\n",
       "    .dataframe thead th {\n",
       "        text-align: right;\n",
       "    }\n",
       "</style>\n",
       "<table border=\"1\" class=\"dataframe\">\n",
       "  <thead>\n",
       "    <tr style=\"text-align: right;\">\n",
       "      <th></th>\n",
       "      <th>StayedLengthofStay</th>\n",
       "      <th>StayedAverageDailyRate</th>\n",
       "      <th>BookingWindowCheckindate</th>\n",
       "    </tr>\n",
       "  </thead>\n",
       "  <tbody>\n",
       "    <tr>\n",
       "      <th>count</th>\n",
       "      <td>116.000000</td>\n",
       "      <td>116.000000</td>\n",
       "      <td>116.000000</td>\n",
       "    </tr>\n",
       "    <tr>\n",
       "      <th>mean</th>\n",
       "      <td>2.468362</td>\n",
       "      <td>78.971466</td>\n",
       "      <td>52.222845</td>\n",
       "    </tr>\n",
       "    <tr>\n",
       "      <th>std</th>\n",
       "      <td>0.626048</td>\n",
       "      <td>36.880396</td>\n",
       "      <td>25.986935</td>\n",
       "    </tr>\n",
       "    <tr>\n",
       "      <th>min</th>\n",
       "      <td>1.830000</td>\n",
       "      <td>19.920000</td>\n",
       "      <td>17.030000</td>\n",
       "    </tr>\n",
       "    <tr>\n",
       "      <th>25%</th>\n",
       "      <td>1.920000</td>\n",
       "      <td>50.097500</td>\n",
       "      <td>33.407500</td>\n",
       "    </tr>\n",
       "    <tr>\n",
       "      <th>50%</th>\n",
       "      <td>2.255000</td>\n",
       "      <td>90.180000</td>\n",
       "      <td>43.160000</td>\n",
       "    </tr>\n",
       "    <tr>\n",
       "      <th>75%</th>\n",
       "      <td>2.905000</td>\n",
       "      <td>101.180000</td>\n",
       "      <td>65.927500</td>\n",
       "    </tr>\n",
       "    <tr>\n",
       "      <th>max</th>\n",
       "      <td>3.840000</td>\n",
       "      <td>154.440000</td>\n",
       "      <td>124.550000</td>\n",
       "    </tr>\n",
       "  </tbody>\n",
       "</table>\n",
       "</div>"
      ],
      "text/plain": [
       "       StayedLengthofStay  StayedAverageDailyRate  BookingWindowCheckindate\n",
       "count          116.000000              116.000000                116.000000\n",
       "mean             2.468362               78.971466                 52.222845\n",
       "std              0.626048               36.880396                 25.986935\n",
       "min              1.830000               19.920000                 17.030000\n",
       "25%              1.920000               50.097500                 33.407500\n",
       "50%              2.255000               90.180000                 43.160000\n",
       "75%              2.905000              101.180000                 65.927500\n",
       "max              3.840000              154.440000                124.550000"
      ]
     },
     "execution_count": 9,
     "metadata": {},
     "output_type": "execute_result"
    }
   ],
   "source": [
    "data.describe()"
   ]
  },
  {
   "cell_type": "code",
   "execution_count": 10,
   "metadata": {},
   "outputs": [
    {
     "data": {
      "text/plain": [
       "<seaborn.axisgrid.PairGrid at 0x145a2f97ec8>"
      ]
     },
     "execution_count": 10,
     "metadata": {},
     "output_type": "execute_result"
    },
    {
     "data": {
      "image/png": "[encoded data removed]",
      "text/plain": [
       "<Figure size 540x540 with 12 Axes>"
      ]
     },
     "metadata": {
      "needs_background": "light"
     },
     "output_type": "display_data"
    }
   ],
   "source": [
    "sb.pairplot(data[[\"StayedLengthofStay\",\"StayedAverageDailyRate\",\"BookingWindowCheckindate\"]])"
   ]
  },
  {
   "cell_type": "code",
   "execution_count": 11,
   "metadata": {},
   "outputs": [
    {
     "data": {
      "text/plain": [
       "Date                        0\n",
       "Accommodation Type          0\n",
       "StayedLengthofStay          0\n",
       "StayedAverageDailyRate      0\n",
       "BookingWindowCheckindate    0\n",
       "dtype: int64"
      ]
     },
     "execution_count": 11,
     "metadata": {},
     "output_type": "execute_result"
    }
   ],
   "source": [
    "data.isna().sum()"
   ]
  },
  {
   "cell_type": "code",
   "execution_count": 12,
   "metadata": {},
   "outputs": [
    {
     "data": {
      "image/png": "[encoded data removed]",
      "text/plain": [
       "<Figure size 720x1080 with 4 Axes>"
      ]
     },
     "metadata": {
      "needs_background": "light"
     },
     "output_type": "display_data"
    }
   ],
   "source": [
    "%matplotlib inline\n",
    "import matplotlib.pyplot as plt\n",
    "data.hist(bins=50, figsize=(10,15))\n",
    "plt.show()"
   ]
  },
  {
   "cell_type": "code",
   "execution_count": 13,
   "metadata": {},
   "outputs": [],
   "source": [
    "np.random.seed(50)"
   ]
  },
  {
   "cell_type": "code",
   "execution_count": 14,
   "metadata": {},
   "outputs": [],
   "source": [
    "def split_train_test(data, test_ratio):\n",
    "    shuffled_indices = np.random.permutation(len(data))\n",
    "    test_set_size = int(len(data) * test_ratio)\n",
    "    test_indices = shuffled_indices[:test_set_size]\n",
    "    train_indices = shuffled_indices[test_set_size:]\n",
    "    return data.iloc[train_indices], data.iloc[test_indices]"
   ]
  },
  {
   "cell_type": "code",
   "execution_count": 15,
   "metadata": {},
   "outputs": [
    {
     "data": {
      "text/plain": [
       "93"
      ]
     },
     "execution_count": 15,
     "metadata": {},
     "output_type": "execute_result"
    }
   ],
   "source": [
    "train_set, test_set = split_train_test(data, 0.2)\n",
    "len(train_set)"
   ]
  },
  {
   "cell_type": "code",
   "execution_count": 16,
   "metadata": {},
   "outputs": [
    {
     "data": {
      "text/plain": [
       "23"
      ]
     },
     "execution_count": 16,
     "metadata": {},
     "output_type": "execute_result"
    }
   ],
   "source": [
    "len(test_set)"
   ]
  },
  {
   "cell_type": "code",
   "execution_count": 17,
   "metadata": {},
   "outputs": [],
   "source": [
    "def split_train_test_by_id(data, test_ratio, id_column):\n",
    "    ids = data[id_column]\n",
    "    in_test_set = ids.apply(lambda id_: test_set_check(id_, test_ratio))\n",
    "    return data.loc[~in_test_set], data.loc[in_test_set]"
   ]
  },
  {
   "cell_type": "code",
   "execution_count": 18,
   "metadata": {},
   "outputs": [],
   "source": [
    "import hashlib\n",
    "\n",
    "def test_set_check(identifier, test_ratio, hash=hashlib.md5):\n",
    "    return hash(np.int64(identifier)).digest()[-1] < 80 * test_ratio"
   ]
  },
  {
   "cell_type": "code",
   "execution_count": 19,
   "metadata": {},
   "outputs": [
    {
     "data": {
      "text/html": [
       "<div>\n",
       "<style scoped>\n",
       "    .dataframe tbody tr th:only-of-type {\n",
       "        vertical-align: middle;\n",
       "    }\n",
       "\n",
       "    .dataframe tbody tr th {\n",
       "        vertical-align: top;\n",
       "    }\n",
       "\n",
       "    .dataframe thead th {\n",
       "        text-align: right;\n",
       "    }\n",
       "</style>\n",
       "<table border=\"1\" class=\"dataframe\">\n",
       "  <thead>\n",
       "    <tr style=\"text-align: right;\">\n",
       "      <th></th>\n",
       "      <th>index</th>\n",
       "      <th>Date</th>\n",
       "      <th>Accommodation Type</th>\n",
       "      <th>StayedLengthofStay</th>\n",
       "      <th>StayedAverageDailyRate</th>\n",
       "      <th>BookingWindowCheckindate</th>\n",
       "    </tr>\n",
       "  </thead>\n",
       "  <tbody>\n",
       "    <tr>\n",
       "      <th>11</th>\n",
       "      <td>11</td>\n",
       "      <td>2019-10</td>\n",
       "      <td>Hotel</td>\n",
       "      <td>1.89</td>\n",
       "      <td>95.37</td>\n",
       "      <td>38.66</td>\n",
       "    </tr>\n",
       "    <tr>\n",
       "      <th>35</th>\n",
       "      <td>35</td>\n",
       "      <td>2019-04</td>\n",
       "      <td>Hotel</td>\n",
       "      <td>1.94</td>\n",
       "      <td>96.92</td>\n",
       "      <td>38.77</td>\n",
       "    </tr>\n",
       "    <tr>\n",
       "      <th>51</th>\n",
       "      <td>51</td>\n",
       "      <td>2018-12</td>\n",
       "      <td>Hotel</td>\n",
       "      <td>1.91</td>\n",
       "      <td>104.16</td>\n",
       "      <td>42.26</td>\n",
       "    </tr>\n",
       "    <tr>\n",
       "      <th>52</th>\n",
       "      <td>52</td>\n",
       "      <td>2018-11</td>\n",
       "      <td>Apartment</td>\n",
       "      <td>2.34</td>\n",
       "      <td>57.49</td>\n",
       "      <td>69.00</td>\n",
       "    </tr>\n",
       "    <tr>\n",
       "      <th>62</th>\n",
       "      <td>62</td>\n",
       "      <td>2018-09</td>\n",
       "      <td>Hostel</td>\n",
       "      <td>1.89</td>\n",
       "      <td>24.63</td>\n",
       "      <td>22.36</td>\n",
       "    </tr>\n",
       "  </tbody>\n",
       "</table>\n",
       "</div>"
      ],
      "text/plain": [
       "    index     Date Accommodation Type  StayedLengthofStay  \\\n",
       "11     11  2019-10              Hotel                1.89   \n",
       "35     35  2019-04              Hotel                1.94   \n",
       "51     51  2018-12              Hotel                1.91   \n",
       "52     52  2018-11          Apartment                2.34   \n",
       "62     62  2018-09             Hostel                1.89   \n",
       "\n",
       "    StayedAverageDailyRate  BookingWindowCheckindate  \n",
       "11                   95.37                     38.66  \n",
       "35                   96.92                     38.77  \n",
       "51                  104.16                     42.26  \n",
       "52                   57.49                     69.00  \n",
       "62                   24.63                     22.36  "
      ]
     },
     "execution_count": 19,
     "metadata": {},
     "output_type": "execute_result"
    }
   ],
   "source": [
    "data_with_id = data.reset_index() \n",
    "train_set, test_set = split_train_test_by_id(data_with_id, 0.2, \"index\")\n",
    "test_set.head()"
   ]
  },
  {
   "cell_type": "code",
   "execution_count": 20,
   "metadata": {},
   "outputs": [
    {
     "data": {
      "text/html": [
       "<div>\n",
       "<style scoped>\n",
       "    .dataframe tbody tr th:only-of-type {\n",
       "        vertical-align: middle;\n",
       "    }\n",
       "\n",
       "    .dataframe tbody tr th {\n",
       "        vertical-align: top;\n",
       "    }\n",
       "\n",
       "    .dataframe thead th {\n",
       "        text-align: right;\n",
       "    }\n",
       "</style>\n",
       "<table border=\"1\" class=\"dataframe\">\n",
       "  <thead>\n",
       "    <tr style=\"text-align: right;\">\n",
       "      <th></th>\n",
       "      <th>Date</th>\n",
       "      <th>Accommodation Type</th>\n",
       "      <th>StayedLengthofStay</th>\n",
       "      <th>StayedAverageDailyRate</th>\n",
       "      <th>BookingWindowCheckindate</th>\n",
       "    </tr>\n",
       "  </thead>\n",
       "  <tbody>\n",
       "    <tr>\n",
       "      <th>57</th>\n",
       "      <td>2018-10</td>\n",
       "      <td>Holiday home</td>\n",
       "      <td>2.80</td>\n",
       "      <td>90.89</td>\n",
       "      <td>91.57</td>\n",
       "    </tr>\n",
       "    <tr>\n",
       "      <th>3</th>\n",
       "      <td>2019-12</td>\n",
       "      <td>Hotel</td>\n",
       "      <td>1.92</td>\n",
       "      <td>106.24</td>\n",
       "      <td>42.54</td>\n",
       "    </tr>\n",
       "  </tbody>\n",
       "</table>\n",
       "</div>"
      ],
      "text/plain": [
       "       Date Accommodation Type  StayedLengthofStay  StayedAverageDailyRate  \\\n",
       "57  2018-10       Holiday home                2.80                   90.89   \n",
       "3   2019-12              Hotel                1.92                  106.24   \n",
       "\n",
       "    BookingWindowCheckindate  \n",
       "57                     91.57  \n",
       "3                      42.54  "
      ]
     },
     "execution_count": 20,
     "metadata": {},
     "output_type": "execute_result"
    }
   ],
   "source": [
    "from sklearn.model_selection import train_test_split\n",
    "\n",
    "train_set, test_set = train_test_split(data, test_size=0.01, random_state=9)\n",
    "test_set.head()"
   ]
  },
  {
   "cell_type": "code",
   "execution_count": 21,
   "metadata": {},
   "outputs": [
    {
     "data": {
      "text/plain": [
       "<matplotlib.axes._subplots.AxesSubplot at 0x145a4395f88>"
      ]
     },
     "execution_count": 21,
     "metadata": {},
     "output_type": "execute_result"
    },
    {
     "data": {
      "image/png": "[encoded data removed]",
      "text/plain": [
       "<Figure size 432x288 with 1 Axes>"
      ]
     },
     "metadata": {
      "needs_background": "light"
     },
     "output_type": "display_data"
    }
   ],
   "source": [
    "data[\"StayedLengthofStay\"].hist()"
   ]
  },
  {
   "cell_type": "code",
   "execution_count": 22,
   "metadata": {},
   "outputs": [],
   "source": [
    "data[\"BookingWindowCheckindate\"] = pd.cut(data[\"StayedLengthofStay\"],\n",
    "                               bins=[0., 1.5, 3.0, 4.5, 6., np.inf],\n",
    "                               labels=[1, 2, 3, 4, 5])"
   ]
  },
  {
   "cell_type": "code",
   "execution_count": 23,
   "metadata": {},
   "outputs": [
    {
     "data": {
      "text/plain": [
       "<matplotlib.axes._subplots.AxesSubplot at 0x145a4059dc8>"
      ]
     },
     "execution_count": 23,
     "metadata": {},
     "output_type": "execute_result"
    },
    {
     "data": {
      "image/png": "[encoded data removed]",
      "text/plain": [
       "<Figure size 432x288 with 1 Axes>"
      ]
     },
     "metadata": {
      "needs_background": "light"
     },
     "output_type": "display_data"
    }
   ],
   "source": [
    "data[\"BookingWindowCheckindate\"].hist()"
   ]
  },
  {
   "cell_type": "code",
   "execution_count": 24,
   "metadata": {},
   "outputs": [],
   "source": [
    "from sklearn.model_selection import StratifiedShuffleSplit\n",
    "\n",
    "split = StratifiedShuffleSplit(n_splits=1, test_size=0.2, random_state=4)\n",
    "for train_index, test_index in split.split(data, data[\"BookingWindowCheckindate\"]):\n",
    "    strat_train_set = data.loc[train_index]\n",
    "    strat_test_set = data.loc[test_index]"
   ]
  },
  {
   "cell_type": "code",
   "execution_count": 25,
   "metadata": {},
   "outputs": [
    {
     "data": {
      "text/plain": [
       "2    0.791667\n",
       "3    0.208333\n",
       "5    0.000000\n",
       "4    0.000000\n",
       "1    0.000000\n",
       "Name: BookingWindowCheckindate, dtype: float64"
      ]
     },
     "execution_count": 25,
     "metadata": {},
     "output_type": "execute_result"
    }
   ],
   "source": [
    "strat_test_set[\"BookingWindowCheckindate\"].value_counts() / len(strat_test_set)"
   ]
  },
  {
   "cell_type": "code",
   "execution_count": 26,
   "metadata": {},
   "outputs": [
    {
     "data": {
      "text/plain": [
       "2    0.775862\n",
       "3    0.224138\n",
       "5    0.000000\n",
       "4    0.000000\n",
       "1    0.000000\n",
       "Name: BookingWindowCheckindate, dtype: float64"
      ]
     },
     "execution_count": 26,
     "metadata": {},
     "output_type": "execute_result"
    }
   ],
   "source": [
    "data[\"BookingWindowCheckindate\"].value_counts() / len(data)"
   ]
  },
  {
   "cell_type": "code",
   "execution_count": 27,
   "metadata": {},
   "outputs": [
    {
     "data": {
      "text/html": [
       "<div>\n",
       "<style scoped>\n",
       "    .dataframe tbody tr th:only-of-type {\n",
       "        vertical-align: middle;\n",
       "    }\n",
       "\n",
       "    .dataframe tbody tr th {\n",
       "        vertical-align: top;\n",
       "    }\n",
       "\n",
       "    .dataframe thead th {\n",
       "        text-align: right;\n",
       "    }\n",
       "</style>\n",
       "<table border=\"1\" class=\"dataframe\">\n",
       "  <thead>\n",
       "    <tr style=\"text-align: right;\">\n",
       "      <th></th>\n",
       "      <th>Overall</th>\n",
       "      <th>Stratified</th>\n",
       "      <th>Random</th>\n",
       "      <th>Rand. %error</th>\n",
       "      <th>Strat. %error</th>\n",
       "    </tr>\n",
       "  </thead>\n",
       "  <tbody>\n",
       "    <tr>\n",
       "      <th>1</th>\n",
       "      <td>0.000000</td>\n",
       "      <td>0.000000</td>\n",
       "      <td>0.00</td>\n",
       "      <td>NaN</td>\n",
       "      <td>NaN</td>\n",
       "    </tr>\n",
       "    <tr>\n",
       "      <th>2</th>\n",
       "      <td>0.775862</td>\n",
       "      <td>0.791667</td>\n",
       "      <td>0.75</td>\n",
       "      <td>96.666667</td>\n",
       "      <td>102.037037</td>\n",
       "    </tr>\n",
       "    <tr>\n",
       "      <th>3</th>\n",
       "      <td>0.224138</td>\n",
       "      <td>0.208333</td>\n",
       "      <td>0.25</td>\n",
       "      <td>111.538462</td>\n",
       "      <td>92.948718</td>\n",
       "    </tr>\n",
       "    <tr>\n",
       "      <th>4</th>\n",
       "      <td>0.000000</td>\n",
       "      <td>0.000000</td>\n",
       "      <td>0.00</td>\n",
       "      <td>NaN</td>\n",
       "      <td>NaN</td>\n",
       "    </tr>\n",
       "    <tr>\n",
       "      <th>5</th>\n",
       "      <td>0.000000</td>\n",
       "      <td>0.000000</td>\n",
       "      <td>0.00</td>\n",
       "      <td>NaN</td>\n",
       "      <td>NaN</td>\n",
       "    </tr>\n",
       "  </tbody>\n",
       "</table>\n",
       "</div>"
      ],
      "text/plain": [
       "    Overall  Stratified  Random  Rand. %error  Strat. %error\n",
       "1  0.000000    0.000000    0.00           NaN            NaN\n",
       "2  0.775862    0.791667    0.75     96.666667     102.037037\n",
       "3  0.224138    0.208333    0.25    111.538462      92.948718\n",
       "4  0.000000    0.000000    0.00           NaN            NaN\n",
       "5  0.000000    0.000000    0.00           NaN            NaN"
      ]
     },
     "execution_count": 27,
     "metadata": {},
     "output_type": "execute_result"
    }
   ],
   "source": [
    "def BookingWindowCheckindate_proportions(data):\n",
    "    return data[\"BookingWindowCheckindate\"].value_counts() / len(data)\n",
    "\n",
    "train_set, test_set = train_test_split(data, test_size=0.1, random_state=3)\n",
    "\n",
    "compare_props = pd.DataFrame({\n",
    "    \"Overall\": BookingWindowCheckindate_proportions(data),\n",
    "    \"Stratified\": BookingWindowCheckindate_proportions(strat_test_set),\n",
    "    \"Random\": BookingWindowCheckindate_proportions(test_set),\n",
    "}).sort_index()\n",
    "compare_props[\"Rand. %error\"] = 100 * compare_props[\"Random\"] / compare_props[\"Overall\"]\n",
    "compare_props[\"Strat. %error\"] = 100 * compare_props[\"Stratified\"] / compare_props[\"Overall\"]\n",
    "compare_props"
   ]
  },
  {
   "cell_type": "code",
   "execution_count": 28,
   "metadata": {},
   "outputs": [],
   "source": [
    "data = strat_train_set.copy()"
   ]
  },
  {
   "cell_type": "code",
   "execution_count": 29,
   "metadata": {},
   "outputs": [],
   "source": [
    "corr_matrix = data.corr()"
   ]
  },
  {
   "cell_type": "code",
   "execution_count": 30,
   "metadata": {},
   "outputs": [
    {
     "data": {
      "text/plain": [
       "StayedAverageDailyRate    1.00000\n",
       "StayedLengthofStay        0.57357\n",
       "Name: StayedAverageDailyRate, dtype: float64"
      ]
     },
     "execution_count": 30,
     "metadata": {},
     "output_type": "execute_result"
    }
   ],
   "source": [
    "corr_matrix[\"StayedAverageDailyRate\"].sort_values(ascending=False)"
   ]
  },
  {
   "cell_type": "code",
   "execution_count": 177,
   "metadata": {},
   "outputs": [
    {
     "ename": "NameError",
     "evalue": "name 'save_fig' is not defined",
     "output_type": "error",
     "traceback": [
      "\u001b[1;31m---------------------------------------------------------------------------\u001b[0m",
      "\u001b[1;31mNameError\u001b[0m                                 Traceback (most recent call last)",
      "\u001b[1;32m<ipython-input-177-6feb0a5fef82>\u001b[0m in \u001b[0;36m<module>\u001b[1;34m\u001b[0m\n\u001b[0;32m      3\u001b[0m \u001b[0mattributes\u001b[0m \u001b[1;33m=\u001b[0m \u001b[1;33m[\u001b[0m\u001b[1;34m\"StayedAverageDailyRate\"\u001b[0m\u001b[1;33m,\u001b[0m \u001b[1;34m\"StayedLengthofStay\"\u001b[0m\u001b[1;33m]\u001b[0m\u001b[1;33m\u001b[0m\u001b[1;33m\u001b[0m\u001b[0m\n\u001b[0;32m      4\u001b[0m \u001b[0mscatter_matrix\u001b[0m\u001b[1;33m(\u001b[0m\u001b[0mdata\u001b[0m\u001b[1;33m[\u001b[0m\u001b[0mattributes\u001b[0m\u001b[1;33m]\u001b[0m\u001b[1;33m,\u001b[0m \u001b[0mfigsize\u001b[0m\u001b[1;33m=\u001b[0m\u001b[1;33m(\u001b[0m\u001b[1;36m12\u001b[0m\u001b[1;33m,\u001b[0m \u001b[1;36m8\u001b[0m\u001b[1;33m)\u001b[0m\u001b[1;33m)\u001b[0m\u001b[1;33m\u001b[0m\u001b[1;33m\u001b[0m\u001b[0m\n\u001b[1;32m----> 5\u001b[1;33m \u001b[0msave_fig\u001b[0m\u001b[1;33m(\u001b[0m\u001b[1;34m\"scatter_matrix_plot\"\u001b[0m\u001b[1;33m)\u001b[0m\u001b[1;33m\u001b[0m\u001b[1;33m\u001b[0m\u001b[0m\n\u001b[0m",
      "\u001b[1;31mNameError\u001b[0m: name 'save_fig' is not defined"
     ]
    },
    {
     "data": {
      "image/png": "[encoded data removed]",
      "text/plain": [
       "<Figure size 864x576 with 4 Axes>"
      ]
     },
     "metadata": {
      "needs_background": "light"
     },
     "output_type": "display_data"
    }
   ],
   "source": [
    "from pandas.plotting import scatter_matrix\n",
    "\n",
    "attributes = [\"StayedAverageDailyRate\", \"StayedLengthofStay\"]\n",
    "scatter_matrix(data[attributes], figsize=(12, 8))\n",
    "save_fig(\"scatter_matrix_plot\")"
   ]
  },
  {
   "cell_type": "code",
   "execution_count": 178,
   "metadata": {},
   "outputs": [
    {
     "data": {
      "text/html": [
       "<div>\n",
       "<style scoped>\n",
       "    .dataframe tbody tr th:only-of-type {\n",
       "        vertical-align: middle;\n",
       "    }\n",
       "\n",
       "    .dataframe tbody tr th {\n",
       "        vertical-align: top;\n",
       "    }\n",
       "\n",
       "    .dataframe thead th {\n",
       "        text-align: right;\n",
       "    }\n",
       "</style>\n",
       "<table border=\"1\" class=\"dataframe\">\n",
       "  <thead>\n",
       "    <tr style=\"text-align: right;\">\n",
       "      <th></th>\n",
       "      <th>StayedLengthofStay</th>\n",
       "      <th>StayedAverageDailyRate</th>\n",
       "    </tr>\n",
       "  </thead>\n",
       "  <tbody>\n",
       "    <tr>\n",
       "      <th>count</th>\n",
       "      <td>92.000000</td>\n",
       "      <td>92.000000</td>\n",
       "    </tr>\n",
       "    <tr>\n",
       "      <th>mean</th>\n",
       "      <td>2.493478</td>\n",
       "      <td>80.739130</td>\n",
       "    </tr>\n",
       "    <tr>\n",
       "      <th>std</th>\n",
       "      <td>0.633142</td>\n",
       "      <td>35.276396</td>\n",
       "    </tr>\n",
       "    <tr>\n",
       "      <th>min</th>\n",
       "      <td>1.830000</td>\n",
       "      <td>19.920000</td>\n",
       "    </tr>\n",
       "    <tr>\n",
       "      <th>25%</th>\n",
       "      <td>1.917500</td>\n",
       "      <td>60.677500</td>\n",
       "    </tr>\n",
       "    <tr>\n",
       "      <th>50%</th>\n",
       "      <td>2.320000</td>\n",
       "      <td>91.040000</td>\n",
       "    </tr>\n",
       "    <tr>\n",
       "      <th>75%</th>\n",
       "      <td>2.950000</td>\n",
       "      <td>101.662500</td>\n",
       "    </tr>\n",
       "    <tr>\n",
       "      <th>max</th>\n",
       "      <td>3.840000</td>\n",
       "      <td>147.430000</td>\n",
       "    </tr>\n",
       "  </tbody>\n",
       "</table>\n",
       "</div>"
      ],
      "text/plain": [
       "       StayedLengthofStay  StayedAverageDailyRate\n",
       "count           92.000000               92.000000\n",
       "mean             2.493478               80.739130\n",
       "std              0.633142               35.276396\n",
       "min              1.830000               19.920000\n",
       "25%              1.917500               60.677500\n",
       "50%              2.320000               91.040000\n",
       "75%              2.950000              101.662500\n",
       "max              3.840000              147.430000"
      ]
     },
     "execution_count": 178,
     "metadata": {},
     "output_type": "execute_result"
    }
   ],
   "source": [
    "data.describe()"
   ]
  },
  {
   "cell_type": "code",
   "execution_count": 41,
   "metadata": {},
   "outputs": [
    {
     "data": {
      "text/html": [
       "<div>\n",
       "<style scoped>\n",
       "    .dataframe tbody tr th:only-of-type {\n",
       "        vertical-align: middle;\n",
       "    }\n",
       "\n",
       "    .dataframe tbody tr th {\n",
       "        vertical-align: top;\n",
       "    }\n",
       "\n",
       "    .dataframe thead th {\n",
       "        text-align: right;\n",
       "    }\n",
       "</style>\n",
       "<table border=\"1\" class=\"dataframe\">\n",
       "  <thead>\n",
       "    <tr style=\"text-align: right;\">\n",
       "      <th></th>\n",
       "      <th>Date</th>\n",
       "      <th>Accommodation Type</th>\n",
       "      <th>StayedLengthofStay</th>\n",
       "      <th>StayedAverageDailyRate</th>\n",
       "      <th>BookingWindowCheckindate</th>\n",
       "    </tr>\n",
       "  </thead>\n",
       "  <tbody>\n",
       "    <tr>\n",
       "      <th>14</th>\n",
       "      <td>True</td>\n",
       "      <td>True</td>\n",
       "      <td>True</td>\n",
       "      <td>True</td>\n",
       "      <td>True</td>\n",
       "    </tr>\n",
       "    <tr>\n",
       "      <th>15</th>\n",
       "      <td>True</td>\n",
       "      <td>True</td>\n",
       "      <td>True</td>\n",
       "      <td>True</td>\n",
       "      <td>True</td>\n",
       "    </tr>\n",
       "    <tr>\n",
       "      <th>65</th>\n",
       "      <td>True</td>\n",
       "      <td>True</td>\n",
       "      <td>True</td>\n",
       "      <td>True</td>\n",
       "      <td>True</td>\n",
       "    </tr>\n",
       "    <tr>\n",
       "      <th>80</th>\n",
       "      <td>True</td>\n",
       "      <td>True</td>\n",
       "      <td>True</td>\n",
       "      <td>True</td>\n",
       "      <td>True</td>\n",
       "    </tr>\n",
       "    <tr>\n",
       "      <th>10</th>\n",
       "      <td>True</td>\n",
       "      <td>True</td>\n",
       "      <td>True</td>\n",
       "      <td>True</td>\n",
       "      <td>True</td>\n",
       "    </tr>\n",
       "    <tr>\n",
       "      <th>...</th>\n",
       "      <td>...</td>\n",
       "      <td>...</td>\n",
       "      <td>...</td>\n",
       "      <td>...</td>\n",
       "      <td>...</td>\n",
       "    </tr>\n",
       "    <tr>\n",
       "      <th>23</th>\n",
       "      <td>True</td>\n",
       "      <td>True</td>\n",
       "      <td>True</td>\n",
       "      <td>True</td>\n",
       "      <td>True</td>\n",
       "    </tr>\n",
       "    <tr>\n",
       "      <th>95</th>\n",
       "      <td>True</td>\n",
       "      <td>True</td>\n",
       "      <td>True</td>\n",
       "      <td>True</td>\n",
       "      <td>True</td>\n",
       "    </tr>\n",
       "    <tr>\n",
       "      <th>105</th>\n",
       "      <td>True</td>\n",
       "      <td>True</td>\n",
       "      <td>True</td>\n",
       "      <td>True</td>\n",
       "      <td>True</td>\n",
       "    </tr>\n",
       "    <tr>\n",
       "      <th>38</th>\n",
       "      <td>True</td>\n",
       "      <td>True</td>\n",
       "      <td>True</td>\n",
       "      <td>True</td>\n",
       "      <td>True</td>\n",
       "    </tr>\n",
       "    <tr>\n",
       "      <th>16</th>\n",
       "      <td>True</td>\n",
       "      <td>True</td>\n",
       "      <td>True</td>\n",
       "      <td>True</td>\n",
       "      <td>True</td>\n",
       "    </tr>\n",
       "  </tbody>\n",
       "</table>\n",
       "<p>92 rows × 5 columns</p>\n",
       "</div>"
      ],
      "text/plain": [
       "     Date  Accommodation Type  StayedLengthofStay  StayedAverageDailyRate  \\\n",
       "14   True                True                True                    True   \n",
       "15   True                True                True                    True   \n",
       "65   True                True                True                    True   \n",
       "80   True                True                True                    True   \n",
       "10   True                True                True                    True   \n",
       "..    ...                 ...                 ...                     ...   \n",
       "23   True                True                True                    True   \n",
       "95   True                True                True                    True   \n",
       "105  True                True                True                    True   \n",
       "38   True                True                True                    True   \n",
       "16   True                True                True                    True   \n",
       "\n",
       "     BookingWindowCheckindate  \n",
       "14                       True  \n",
       "15                       True  \n",
       "65                       True  \n",
       "80                       True  \n",
       "10                       True  \n",
       "..                        ...  \n",
       "23                       True  \n",
       "95                       True  \n",
       "105                      True  \n",
       "38                       True  \n",
       "16                       True  \n",
       "\n",
       "[92 rows x 5 columns]"
      ]
     },
     "execution_count": 41,
     "metadata": {},
     "output_type": "execute_result"
    }
   ],
   "source": [
    "data.notnull()"
   ]
  },
  {
   "cell_type": "code",
   "execution_count": 48,
   "metadata": {},
   "outputs": [
    {
     "data": {
      "text/html": [
       "<div>\n",
       "<style scoped>\n",
       "    .dataframe tbody tr th:only-of-type {\n",
       "        vertical-align: middle;\n",
       "    }\n",
       "\n",
       "    .dataframe tbody tr th {\n",
       "        vertical-align: top;\n",
       "    }\n",
       "\n",
       "    .dataframe thead th {\n",
       "        text-align: right;\n",
       "    }\n",
       "</style>\n",
       "<table border=\"1\" class=\"dataframe\">\n",
       "  <thead>\n",
       "    <tr style=\"text-align: right;\">\n",
       "      <th></th>\n",
       "      <th>Date</th>\n",
       "      <th>Accommodation Type</th>\n",
       "      <th>StayedLengthofStay</th>\n",
       "      <th>StayedAverageDailyRate</th>\n",
       "      <th>BookingWindowCheckindate</th>\n",
       "    </tr>\n",
       "  </thead>\n",
       "  <tbody>\n",
       "  </tbody>\n",
       "</table>\n",
       "</div>"
      ],
      "text/plain": [
       "Empty DataFrame\n",
       "Columns: [Date, Accommodation Type, StayedLengthofStay, StayedAverageDailyRate, BookingWindowCheckindate]\n",
       "Index: []"
      ]
     },
     "execution_count": 48,
     "metadata": {},
     "output_type": "execute_result"
    }
   ],
   "source": [
    "data.loc[(data['Date'].isnull()) |\n",
    "              (data['Accommodation Type'].isnull()) |\n",
    "              (data['StayedAverageDailyRate'].isnull()) |\n",
    "              (data['BookingWindowCheckindate'].isnull())]"
   ]
  },
  {
   "cell_type": "code",
   "execution_count": 59,
   "metadata": {},
   "outputs": [
    {
     "data": {
      "image/png": "[encoded data removed]",
      "text/plain": [
       "<Figure size 432x288 with 1 Axes>"
      ]
     },
     "metadata": {
      "needs_background": "light"
     },
     "output_type": "display_data"
    }
   ],
   "source": [
    "chart=sb.countplot('Accommodation Type',data=data,)\n",
    "chart.set_xticklabels(chart.get_xticklabels())\n",
    "plt.show()"
   ]
  },
  {
   "cell_type": "code",
   "execution_count": 65,
   "metadata": {},
   "outputs": [
    {
     "data": {
      "image/png": "[encoded data removed]",
      "text/plain": [
       "<Figure size 432x288 with 1 Axes>"
      ]
     },
     "metadata": {
      "needs_background": "light"
     },
     "output_type": "display_data"
    }
   ],
   "source": [
    "chart=sb.countplot('StayedLengthofStay',data=data,)\n",
    "chart.set_xticklabels(chart.get_xticklabels())\n",
    "plt.show()"
   ]
  },
  {
   "cell_type": "code",
   "execution_count": 67,
   "metadata": {},
   "outputs": [
    {
     "data": {
      "image/png": "[encoded data removed]",
      "text/plain": [
       "<Figure size 432x288 with 1 Axes>"
      ]
     },
     "metadata": {
      "needs_background": "light"
     },
     "output_type": "display_data"
    }
   ],
   "source": [
    "sb.countplot('StayedLengthofStay',hue='Accommodation Type',data=data)\n",
    "plt.show()"
   ]
  },
  {
   "cell_type": "code",
   "execution_count": 69,
   "metadata": {},
   "outputs": [],
   "source": [
    "import json\n",
    "data.to_json('datacustbeh.json')"
   ]
  },
  {
   "cell_type": "code",
   "execution_count": null,
   "metadata": {},
   "outputs": [],
   "source": []
  },
  {
   "cell_type": "code",
   "execution_count": null,
   "metadata": {},
   "outputs": [],
   "source": []
  }
 ],
 "metadata": {
  "kernelspec": {
   "display_name": "Python 3",
   "language": "python",
   "name": "python3"
  },
  "language_info": {
   "codemirror_mode": {
    "name": "ipython",
    "version": 3
   },
   "file_extension": ".py",
   "mimetype": "text/x-python",
   "name": "python",
   "nbconvert_exporter": "python",
   "pygments_lexer": "ipython3",
   "version": "3.7.6"
  }
 },
 "nbformat": 4,
 "nbformat_minor": 4
}
